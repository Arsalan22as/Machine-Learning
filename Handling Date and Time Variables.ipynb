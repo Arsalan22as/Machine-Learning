{
  "cells": [
    {
      "cell_type": "markdown",
      "metadata": {
        "id": "view-in-github",
        "colab_type": "text"
      },
      "source": [
        "<a href=\"https://colab.research.google.com/github/Arsalan22as/Machine-Learning/blob/main/Handling%20Date%20and%20Time%20Variables.ipynb\" target=\"_parent\"><img src=\"https://colab.research.google.com/assets/colab-badge.svg\" alt=\"Open In Colab\"/></a>"
      ]
    },
    {
      "cell_type": "code",
      "execution_count": null,
      "metadata": {
        "id": "ZFdAqV6mD9sj"
      },
      "outputs": [],
      "source": [
        "import numpy as np\n",
        "import pandas as pd"
      ]
    },
    {
      "cell_type": "code",
      "execution_count": null,
      "metadata": {
        "id": "WLLJAG_bD9sk"
      },
      "outputs": [],
      "source": [
        "date = pd.read_csv('orders.csv')\n",
        "time = pd.read_csv('messages.csv')"
      ]
    },
    {
      "cell_type": "code",
      "execution_count": null,
      "metadata": {
        "id": "ztxV6MWXD9sl",
        "outputId": "a5ef02e4-6fb0-4732-8f38-3a65d5922e29"
      },
      "outputs": [
        {
          "data": {
            "text/html": [
              "<div>\n",
              "<style scoped>\n",
              "    .dataframe tbody tr th:only-of-type {\n",
              "        vertical-align: middle;\n",
              "    }\n",
              "\n",
              "    .dataframe tbody tr th {\n",
              "        vertical-align: top;\n",
              "    }\n",
              "\n",
              "    .dataframe thead th {\n",
              "        text-align: right;\n",
              "    }\n",
              "</style>\n",
              "<table border=\"1\" class=\"dataframe\">\n",
              "  <thead>\n",
              "    <tr style=\"text-align: right;\">\n",
              "      <th></th>\n",
              "      <th>date</th>\n",
              "      <th>product_id</th>\n",
              "      <th>city_id</th>\n",
              "      <th>orders</th>\n",
              "    </tr>\n",
              "  </thead>\n",
              "  <tbody>\n",
              "    <tr>\n",
              "      <th>0</th>\n",
              "      <td>2019-12-10</td>\n",
              "      <td>5628</td>\n",
              "      <td>25</td>\n",
              "      <td>3</td>\n",
              "    </tr>\n",
              "    <tr>\n",
              "      <th>1</th>\n",
              "      <td>2018-08-15</td>\n",
              "      <td>3646</td>\n",
              "      <td>14</td>\n",
              "      <td>157</td>\n",
              "    </tr>\n",
              "    <tr>\n",
              "      <th>2</th>\n",
              "      <td>2018-10-23</td>\n",
              "      <td>1859</td>\n",
              "      <td>25</td>\n",
              "      <td>1</td>\n",
              "    </tr>\n",
              "    <tr>\n",
              "      <th>3</th>\n",
              "      <td>2019-08-17</td>\n",
              "      <td>7292</td>\n",
              "      <td>25</td>\n",
              "      <td>1</td>\n",
              "    </tr>\n",
              "    <tr>\n",
              "      <th>4</th>\n",
              "      <td>2019-01-06</td>\n",
              "      <td>4344</td>\n",
              "      <td>25</td>\n",
              "      <td>3</td>\n",
              "    </tr>\n",
              "  </tbody>\n",
              "</table>\n",
              "</div>"
            ],
            "text/plain": [
              "         date  product_id  city_id  orders\n",
              "0  2019-12-10        5628       25       3\n",
              "1  2018-08-15        3646       14     157\n",
              "2  2018-10-23        1859       25       1\n",
              "3  2019-08-17        7292       25       1\n",
              "4  2019-01-06        4344       25       3"
            ]
          },
          "execution_count": 46,
          "metadata": {},
          "output_type": "execute_result"
        }
      ],
      "source": [
        "date.head()"
      ]
    },
    {
      "cell_type": "code",
      "execution_count": null,
      "metadata": {
        "id": "he1tzp_CD9sm",
        "outputId": "377e1bfc-d5d3-4244-9098-9580cf5b4712"
      },
      "outputs": [
        {
          "data": {
            "text/html": [
              "<div>\n",
              "<style scoped>\n",
              "    .dataframe tbody tr th:only-of-type {\n",
              "        vertical-align: middle;\n",
              "    }\n",
              "\n",
              "    .dataframe tbody tr th {\n",
              "        vertical-align: top;\n",
              "    }\n",
              "\n",
              "    .dataframe thead th {\n",
              "        text-align: right;\n",
              "    }\n",
              "</style>\n",
              "<table border=\"1\" class=\"dataframe\">\n",
              "  <thead>\n",
              "    <tr style=\"text-align: right;\">\n",
              "      <th></th>\n",
              "      <th>date</th>\n",
              "      <th>msg</th>\n",
              "    </tr>\n",
              "  </thead>\n",
              "  <tbody>\n",
              "    <tr>\n",
              "      <th>0</th>\n",
              "      <td>2013-12-15 00:50:00</td>\n",
              "      <td>ищу на сегодня мужика 37</td>\n",
              "    </tr>\n",
              "    <tr>\n",
              "      <th>1</th>\n",
              "      <td>2014-04-29 23:40:00</td>\n",
              "      <td>ПАРЕНЬ БИ ИЩЕТ ДРУГА СЕЙЧАС!! СМС ММС 0955532826</td>\n",
              "    </tr>\n",
              "    <tr>\n",
              "      <th>2</th>\n",
              "      <td>2012-12-30 00:21:00</td>\n",
              "      <td>Днепр.м 43 позн.с д/ж *.о  067.16.34.576</td>\n",
              "    </tr>\n",
              "    <tr>\n",
              "      <th>3</th>\n",
              "      <td>2014-11-28 00:31:00</td>\n",
              "      <td>КИЕВ ИЩУ Д/Ж ДО 45 МНЕ СЕЙЧАС СКУЧНО 093 629 9...</td>\n",
              "    </tr>\n",
              "    <tr>\n",
              "      <th>4</th>\n",
              "      <td>2013-10-26 23:11:00</td>\n",
              "      <td>Зая я тебя никогда не обижу  люблю тебя!)  Даше</td>\n",
              "    </tr>\n",
              "  </tbody>\n",
              "</table>\n",
              "</div>"
            ],
            "text/plain": [
              "                  date                                                msg\n",
              "0  2013-12-15 00:50:00                           ищу на сегодня мужика 37\n",
              "1  2014-04-29 23:40:00   ПАРЕНЬ БИ ИЩЕТ ДРУГА СЕЙЧАС!! СМС ММС 0955532826\n",
              "2  2012-12-30 00:21:00           Днепр.м 43 позн.с д/ж *.о  067.16.34.576\n",
              "3  2014-11-28 00:31:00  КИЕВ ИЩУ Д/Ж ДО 45 МНЕ СЕЙЧАС СКУЧНО 093 629 9...\n",
              "4  2013-10-26 23:11:00    Зая я тебя никогда не обижу  люблю тебя!)  Даше"
            ]
          },
          "execution_count": 47,
          "metadata": {},
          "output_type": "execute_result"
        }
      ],
      "source": [
        "time.head()"
      ]
    },
    {
      "cell_type": "code",
      "execution_count": null,
      "metadata": {
        "id": "HbssdBsqD9sm",
        "outputId": "781af672-ada0-4ec9-dd8c-939b51029353"
      },
      "outputs": [
        {
          "name": "stdout",
          "output_type": "stream",
          "text": [
            "<class 'pandas.core.frame.DataFrame'>\n",
            "RangeIndex: 1000 entries, 0 to 999\n",
            "Data columns (total 4 columns):\n",
            " #   Column      Non-Null Count  Dtype \n",
            "---  ------      --------------  ----- \n",
            " 0   date        1000 non-null   object\n",
            " 1   product_id  1000 non-null   int64 \n",
            " 2   city_id     1000 non-null   int64 \n",
            " 3   orders      1000 non-null   int64 \n",
            "dtypes: int64(3), object(1)\n",
            "memory usage: 31.4+ KB\n"
          ]
        }
      ],
      "source": [
        "date.info()"
      ]
    },
    {
      "cell_type": "code",
      "execution_count": null,
      "metadata": {
        "id": "11vndpBnD9sn",
        "outputId": "1a30de3a-3002-496d-d4a9-85bb6c9fb933"
      },
      "outputs": [
        {
          "name": "stdout",
          "output_type": "stream",
          "text": [
            "<class 'pandas.core.frame.DataFrame'>\n",
            "RangeIndex: 1000 entries, 0 to 999\n",
            "Data columns (total 2 columns):\n",
            " #   Column  Non-Null Count  Dtype \n",
            "---  ------  --------------  ----- \n",
            " 0   date    1000 non-null   object\n",
            " 1   msg     1000 non-null   object\n",
            "dtypes: object(2)\n",
            "memory usage: 15.8+ KB\n"
          ]
        }
      ],
      "source": [
        "time.info()"
      ]
    },
    {
      "cell_type": "markdown",
      "metadata": {
        "id": "qLsmFHDGD9sn"
      },
      "source": [
        "# Working with Dates"
      ]
    },
    {
      "cell_type": "code",
      "execution_count": null,
      "metadata": {
        "id": "ozdnXT4mD9so"
      },
      "outputs": [],
      "source": [
        "# Converting to datetime datatype\n",
        "date['date'] = pd.to_datetime(date['date'])"
      ]
    },
    {
      "cell_type": "code",
      "execution_count": null,
      "metadata": {
        "id": "Wdar9cJMD9sp",
        "outputId": "6aa29455-fb42-4d8a-914c-95ba1ac23e92"
      },
      "outputs": [
        {
          "name": "stdout",
          "output_type": "stream",
          "text": [
            "<class 'pandas.core.frame.DataFrame'>\n",
            "RangeIndex: 1000 entries, 0 to 999\n",
            "Data columns (total 4 columns):\n",
            " #   Column      Non-Null Count  Dtype         \n",
            "---  ------      --------------  -----         \n",
            " 0   date        1000 non-null   datetime64[ns]\n",
            " 1   product_id  1000 non-null   int64         \n",
            " 2   city_id     1000 non-null   int64         \n",
            " 3   orders      1000 non-null   int64         \n",
            "dtypes: datetime64[ns](1), int64(3)\n",
            "memory usage: 31.4 KB\n"
          ]
        }
      ],
      "source": [
        "date.info()"
      ]
    },
    {
      "cell_type": "markdown",
      "metadata": {
        "id": "qpHXMb9xD9sp"
      },
      "source": [
        "#### 1. Extract year"
      ]
    },
    {
      "cell_type": "code",
      "execution_count": null,
      "metadata": {
        "id": "KJbHmie1D9sq",
        "outputId": "f826b60f-5db6-4d48-ba3a-c6e0b2872662"
      },
      "outputs": [
        {
          "data": {
            "text/html": [
              "<div>\n",
              "<style scoped>\n",
              "    .dataframe tbody tr th:only-of-type {\n",
              "        vertical-align: middle;\n",
              "    }\n",
              "\n",
              "    .dataframe tbody tr th {\n",
              "        vertical-align: top;\n",
              "    }\n",
              "\n",
              "    .dataframe thead th {\n",
              "        text-align: right;\n",
              "    }\n",
              "</style>\n",
              "<table border=\"1\" class=\"dataframe\">\n",
              "  <thead>\n",
              "    <tr style=\"text-align: right;\">\n",
              "      <th></th>\n",
              "      <th>date</th>\n",
              "      <th>product_id</th>\n",
              "      <th>city_id</th>\n",
              "      <th>orders</th>\n",
              "      <th>date_year</th>\n",
              "    </tr>\n",
              "  </thead>\n",
              "  <tbody>\n",
              "    <tr>\n",
              "      <th>202</th>\n",
              "      <td>2018-11-21</td>\n",
              "      <td>192</td>\n",
              "      <td>23</td>\n",
              "      <td>1</td>\n",
              "      <td>2018</td>\n",
              "    </tr>\n",
              "    <tr>\n",
              "      <th>999</th>\n",
              "      <td>2019-10-15</td>\n",
              "      <td>6371</td>\n",
              "      <td>7</td>\n",
              "      <td>22</td>\n",
              "      <td>2019</td>\n",
              "    </tr>\n",
              "    <tr>\n",
              "      <th>871</th>\n",
              "      <td>2018-12-26</td>\n",
              "      <td>7378</td>\n",
              "      <td>21</td>\n",
              "      <td>8</td>\n",
              "      <td>2018</td>\n",
              "    </tr>\n",
              "    <tr>\n",
              "      <th>841</th>\n",
              "      <td>2019-11-17</td>\n",
              "      <td>5250</td>\n",
              "      <td>3</td>\n",
              "      <td>13</td>\n",
              "      <td>2019</td>\n",
              "    </tr>\n",
              "    <tr>\n",
              "      <th>235</th>\n",
              "      <td>2018-10-05</td>\n",
              "      <td>1288</td>\n",
              "      <td>20</td>\n",
              "      <td>22</td>\n",
              "      <td>2018</td>\n",
              "    </tr>\n",
              "  </tbody>\n",
              "</table>\n",
              "</div>"
            ],
            "text/plain": [
              "          date  product_id  city_id  orders  date_year\n",
              "202 2018-11-21         192       23       1       2018\n",
              "999 2019-10-15        6371        7      22       2019\n",
              "871 2018-12-26        7378       21       8       2018\n",
              "841 2019-11-17        5250        3      13       2019\n",
              "235 2018-10-05        1288       20      22       2018"
            ]
          },
          "execution_count": 54,
          "metadata": {},
          "output_type": "execute_result"
        }
      ],
      "source": [
        "date['date_year'] = date['date'].dt.year\n",
        "\n",
        "date.sample(5)"
      ]
    },
    {
      "cell_type": "markdown",
      "metadata": {
        "id": "nmaLdLwVD9sq"
      },
      "source": [
        "#### 2. Extract Month"
      ]
    },
    {
      "cell_type": "code",
      "execution_count": null,
      "metadata": {
        "id": "doeZ6q7tD9sq",
        "outputId": "1914246f-a196-4dec-87a4-b4b61050a009"
      },
      "outputs": [
        {
          "data": {
            "text/html": [
              "<div>\n",
              "<style scoped>\n",
              "    .dataframe tbody tr th:only-of-type {\n",
              "        vertical-align: middle;\n",
              "    }\n",
              "\n",
              "    .dataframe tbody tr th {\n",
              "        vertical-align: top;\n",
              "    }\n",
              "\n",
              "    .dataframe thead th {\n",
              "        text-align: right;\n",
              "    }\n",
              "</style>\n",
              "<table border=\"1\" class=\"dataframe\">\n",
              "  <thead>\n",
              "    <tr style=\"text-align: right;\">\n",
              "      <th></th>\n",
              "      <th>date</th>\n",
              "      <th>product_id</th>\n",
              "      <th>city_id</th>\n",
              "      <th>orders</th>\n",
              "      <th>date_year</th>\n",
              "      <th>date_month_no</th>\n",
              "    </tr>\n",
              "  </thead>\n",
              "  <tbody>\n",
              "    <tr>\n",
              "      <th>0</th>\n",
              "      <td>2019-12-10</td>\n",
              "      <td>5628</td>\n",
              "      <td>25</td>\n",
              "      <td>3</td>\n",
              "      <td>2019</td>\n",
              "      <td>12</td>\n",
              "    </tr>\n",
              "    <tr>\n",
              "      <th>1</th>\n",
              "      <td>2018-08-15</td>\n",
              "      <td>3646</td>\n",
              "      <td>14</td>\n",
              "      <td>157</td>\n",
              "      <td>2018</td>\n",
              "      <td>8</td>\n",
              "    </tr>\n",
              "    <tr>\n",
              "      <th>2</th>\n",
              "      <td>2018-10-23</td>\n",
              "      <td>1859</td>\n",
              "      <td>25</td>\n",
              "      <td>1</td>\n",
              "      <td>2018</td>\n",
              "      <td>10</td>\n",
              "    </tr>\n",
              "    <tr>\n",
              "      <th>3</th>\n",
              "      <td>2019-08-17</td>\n",
              "      <td>7292</td>\n",
              "      <td>25</td>\n",
              "      <td>1</td>\n",
              "      <td>2019</td>\n",
              "      <td>8</td>\n",
              "    </tr>\n",
              "    <tr>\n",
              "      <th>4</th>\n",
              "      <td>2019-01-06</td>\n",
              "      <td>4344</td>\n",
              "      <td>25</td>\n",
              "      <td>3</td>\n",
              "      <td>2019</td>\n",
              "      <td>1</td>\n",
              "    </tr>\n",
              "  </tbody>\n",
              "</table>\n",
              "</div>"
            ],
            "text/plain": [
              "        date  product_id  city_id  orders  date_year  date_month_no\n",
              "0 2019-12-10        5628       25       3       2019             12\n",
              "1 2018-08-15        3646       14     157       2018              8\n",
              "2 2018-10-23        1859       25       1       2018             10\n",
              "3 2019-08-17        7292       25       1       2019              8\n",
              "4 2019-01-06        4344       25       3       2019              1"
            ]
          },
          "execution_count": 55,
          "metadata": {},
          "output_type": "execute_result"
        }
      ],
      "source": [
        "date['date_month_no'] = date['date'].dt.month\n",
        "\n",
        "date.head()"
      ]
    },
    {
      "cell_type": "code",
      "execution_count": null,
      "metadata": {
        "id": "V5_2pWTJD9sr",
        "outputId": "f28d07ad-6028-4904-b3d7-a93eff5b94f4"
      },
      "outputs": [
        {
          "data": {
            "text/html": [
              "<div>\n",
              "<style scoped>\n",
              "    .dataframe tbody tr th:only-of-type {\n",
              "        vertical-align: middle;\n",
              "    }\n",
              "\n",
              "    .dataframe tbody tr th {\n",
              "        vertical-align: top;\n",
              "    }\n",
              "\n",
              "    .dataframe thead th {\n",
              "        text-align: right;\n",
              "    }\n",
              "</style>\n",
              "<table border=\"1\" class=\"dataframe\">\n",
              "  <thead>\n",
              "    <tr style=\"text-align: right;\">\n",
              "      <th></th>\n",
              "      <th>date</th>\n",
              "      <th>product_id</th>\n",
              "      <th>city_id</th>\n",
              "      <th>orders</th>\n",
              "      <th>date_year</th>\n",
              "      <th>date_month_no</th>\n",
              "      <th>date_month_name</th>\n",
              "    </tr>\n",
              "  </thead>\n",
              "  <tbody>\n",
              "    <tr>\n",
              "      <th>0</th>\n",
              "      <td>2019-12-10</td>\n",
              "      <td>5628</td>\n",
              "      <td>25</td>\n",
              "      <td>3</td>\n",
              "      <td>2019</td>\n",
              "      <td>12</td>\n",
              "      <td>December</td>\n",
              "    </tr>\n",
              "    <tr>\n",
              "      <th>1</th>\n",
              "      <td>2018-08-15</td>\n",
              "      <td>3646</td>\n",
              "      <td>14</td>\n",
              "      <td>157</td>\n",
              "      <td>2018</td>\n",
              "      <td>8</td>\n",
              "      <td>August</td>\n",
              "    </tr>\n",
              "    <tr>\n",
              "      <th>2</th>\n",
              "      <td>2018-10-23</td>\n",
              "      <td>1859</td>\n",
              "      <td>25</td>\n",
              "      <td>1</td>\n",
              "      <td>2018</td>\n",
              "      <td>10</td>\n",
              "      <td>October</td>\n",
              "    </tr>\n",
              "    <tr>\n",
              "      <th>3</th>\n",
              "      <td>2019-08-17</td>\n",
              "      <td>7292</td>\n",
              "      <td>25</td>\n",
              "      <td>1</td>\n",
              "      <td>2019</td>\n",
              "      <td>8</td>\n",
              "      <td>August</td>\n",
              "    </tr>\n",
              "    <tr>\n",
              "      <th>4</th>\n",
              "      <td>2019-01-06</td>\n",
              "      <td>4344</td>\n",
              "      <td>25</td>\n",
              "      <td>3</td>\n",
              "      <td>2019</td>\n",
              "      <td>1</td>\n",
              "      <td>January</td>\n",
              "    </tr>\n",
              "  </tbody>\n",
              "</table>\n",
              "</div>"
            ],
            "text/plain": [
              "        date  product_id  city_id  orders  date_year  date_month_no  \\\n",
              "0 2019-12-10        5628       25       3       2019             12   \n",
              "1 2018-08-15        3646       14     157       2018              8   \n",
              "2 2018-10-23        1859       25       1       2018             10   \n",
              "3 2019-08-17        7292       25       1       2019              8   \n",
              "4 2019-01-06        4344       25       3       2019              1   \n",
              "\n",
              "  date_month_name  \n",
              "0        December  \n",
              "1          August  \n",
              "2         October  \n",
              "3          August  \n",
              "4         January  "
            ]
          },
          "execution_count": 56,
          "metadata": {},
          "output_type": "execute_result"
        }
      ],
      "source": [
        "date['date_month_name'] = date['date'].dt.month_name()\n",
        "\n",
        "date.head()"
      ]
    },
    {
      "cell_type": "markdown",
      "metadata": {
        "id": "fCqSX_MzD9sr"
      },
      "source": [
        "#### Extract Days"
      ]
    },
    {
      "cell_type": "code",
      "execution_count": null,
      "metadata": {
        "id": "RxJm0dzgD9sr",
        "outputId": "d50ac2ec-844a-4dfe-eef7-d7e336de9398"
      },
      "outputs": [
        {
          "data": {
            "text/html": [
              "<div>\n",
              "<style scoped>\n",
              "    .dataframe tbody tr th:only-of-type {\n",
              "        vertical-align: middle;\n",
              "    }\n",
              "\n",
              "    .dataframe tbody tr th {\n",
              "        vertical-align: top;\n",
              "    }\n",
              "\n",
              "    .dataframe thead th {\n",
              "        text-align: right;\n",
              "    }\n",
              "</style>\n",
              "<table border=\"1\" class=\"dataframe\">\n",
              "  <thead>\n",
              "    <tr style=\"text-align: right;\">\n",
              "      <th></th>\n",
              "      <th>date</th>\n",
              "      <th>product_id</th>\n",
              "      <th>city_id</th>\n",
              "      <th>orders</th>\n",
              "      <th>date_year</th>\n",
              "      <th>date_month_no</th>\n",
              "      <th>date_month_name</th>\n",
              "      <th>date_day</th>\n",
              "    </tr>\n",
              "  </thead>\n",
              "  <tbody>\n",
              "    <tr>\n",
              "      <th>0</th>\n",
              "      <td>2019-12-10</td>\n",
              "      <td>5628</td>\n",
              "      <td>25</td>\n",
              "      <td>3</td>\n",
              "      <td>2019</td>\n",
              "      <td>12</td>\n",
              "      <td>December</td>\n",
              "      <td>10</td>\n",
              "    </tr>\n",
              "    <tr>\n",
              "      <th>1</th>\n",
              "      <td>2018-08-15</td>\n",
              "      <td>3646</td>\n",
              "      <td>14</td>\n",
              "      <td>157</td>\n",
              "      <td>2018</td>\n",
              "      <td>8</td>\n",
              "      <td>August</td>\n",
              "      <td>15</td>\n",
              "    </tr>\n",
              "    <tr>\n",
              "      <th>2</th>\n",
              "      <td>2018-10-23</td>\n",
              "      <td>1859</td>\n",
              "      <td>25</td>\n",
              "      <td>1</td>\n",
              "      <td>2018</td>\n",
              "      <td>10</td>\n",
              "      <td>October</td>\n",
              "      <td>23</td>\n",
              "    </tr>\n",
              "    <tr>\n",
              "      <th>3</th>\n",
              "      <td>2019-08-17</td>\n",
              "      <td>7292</td>\n",
              "      <td>25</td>\n",
              "      <td>1</td>\n",
              "      <td>2019</td>\n",
              "      <td>8</td>\n",
              "      <td>August</td>\n",
              "      <td>17</td>\n",
              "    </tr>\n",
              "    <tr>\n",
              "      <th>4</th>\n",
              "      <td>2019-01-06</td>\n",
              "      <td>4344</td>\n",
              "      <td>25</td>\n",
              "      <td>3</td>\n",
              "      <td>2019</td>\n",
              "      <td>1</td>\n",
              "      <td>January</td>\n",
              "      <td>6</td>\n",
              "    </tr>\n",
              "  </tbody>\n",
              "</table>\n",
              "</div>"
            ],
            "text/plain": [
              "        date  product_id  city_id  orders  date_year  date_month_no  \\\n",
              "0 2019-12-10        5628       25       3       2019             12   \n",
              "1 2018-08-15        3646       14     157       2018              8   \n",
              "2 2018-10-23        1859       25       1       2018             10   \n",
              "3 2019-08-17        7292       25       1       2019              8   \n",
              "4 2019-01-06        4344       25       3       2019              1   \n",
              "\n",
              "  date_month_name  date_day  \n",
              "0        December        10  \n",
              "1          August        15  \n",
              "2         October        23  \n",
              "3          August        17  \n",
              "4         January         6  "
            ]
          },
          "execution_count": 57,
          "metadata": {},
          "output_type": "execute_result"
        }
      ],
      "source": [
        "date['date_day'] = date['date'].dt.day\n",
        "\n",
        "date.head()"
      ]
    },
    {
      "cell_type": "code",
      "execution_count": null,
      "metadata": {
        "id": "JNzSJPM2D9sr",
        "outputId": "545269d8-dbfb-451a-836a-e90d6c277007"
      },
      "outputs": [
        {
          "data": {
            "text/html": [
              "<div>\n",
              "<style scoped>\n",
              "    .dataframe tbody tr th:only-of-type {\n",
              "        vertical-align: middle;\n",
              "    }\n",
              "\n",
              "    .dataframe tbody tr th {\n",
              "        vertical-align: top;\n",
              "    }\n",
              "\n",
              "    .dataframe thead th {\n",
              "        text-align: right;\n",
              "    }\n",
              "</style>\n",
              "<table border=\"1\" class=\"dataframe\">\n",
              "  <thead>\n",
              "    <tr style=\"text-align: right;\">\n",
              "      <th></th>\n",
              "      <th>date</th>\n",
              "      <th>product_id</th>\n",
              "      <th>city_id</th>\n",
              "      <th>orders</th>\n",
              "      <th>date_year</th>\n",
              "      <th>date_month_no</th>\n",
              "      <th>date_month_name</th>\n",
              "      <th>date_day</th>\n",
              "      <th>date_dow</th>\n",
              "    </tr>\n",
              "  </thead>\n",
              "  <tbody>\n",
              "    <tr>\n",
              "      <th>0</th>\n",
              "      <td>2019-12-10</td>\n",
              "      <td>5628</td>\n",
              "      <td>25</td>\n",
              "      <td>3</td>\n",
              "      <td>2019</td>\n",
              "      <td>12</td>\n",
              "      <td>December</td>\n",
              "      <td>10</td>\n",
              "      <td>1</td>\n",
              "    </tr>\n",
              "    <tr>\n",
              "      <th>1</th>\n",
              "      <td>2018-08-15</td>\n",
              "      <td>3646</td>\n",
              "      <td>14</td>\n",
              "      <td>157</td>\n",
              "      <td>2018</td>\n",
              "      <td>8</td>\n",
              "      <td>August</td>\n",
              "      <td>15</td>\n",
              "      <td>2</td>\n",
              "    </tr>\n",
              "    <tr>\n",
              "      <th>2</th>\n",
              "      <td>2018-10-23</td>\n",
              "      <td>1859</td>\n",
              "      <td>25</td>\n",
              "      <td>1</td>\n",
              "      <td>2018</td>\n",
              "      <td>10</td>\n",
              "      <td>October</td>\n",
              "      <td>23</td>\n",
              "      <td>1</td>\n",
              "    </tr>\n",
              "    <tr>\n",
              "      <th>3</th>\n",
              "      <td>2019-08-17</td>\n",
              "      <td>7292</td>\n",
              "      <td>25</td>\n",
              "      <td>1</td>\n",
              "      <td>2019</td>\n",
              "      <td>8</td>\n",
              "      <td>August</td>\n",
              "      <td>17</td>\n",
              "      <td>5</td>\n",
              "    </tr>\n",
              "    <tr>\n",
              "      <th>4</th>\n",
              "      <td>2019-01-06</td>\n",
              "      <td>4344</td>\n",
              "      <td>25</td>\n",
              "      <td>3</td>\n",
              "      <td>2019</td>\n",
              "      <td>1</td>\n",
              "      <td>January</td>\n",
              "      <td>6</td>\n",
              "      <td>6</td>\n",
              "    </tr>\n",
              "  </tbody>\n",
              "</table>\n",
              "</div>"
            ],
            "text/plain": [
              "        date  product_id  city_id  orders  date_year  date_month_no  \\\n",
              "0 2019-12-10        5628       25       3       2019             12   \n",
              "1 2018-08-15        3646       14     157       2018              8   \n",
              "2 2018-10-23        1859       25       1       2018             10   \n",
              "3 2019-08-17        7292       25       1       2019              8   \n",
              "4 2019-01-06        4344       25       3       2019              1   \n",
              "\n",
              "  date_month_name  date_day  date_dow  \n",
              "0        December        10         1  \n",
              "1          August        15         2  \n",
              "2         October        23         1  \n",
              "3          August        17         5  \n",
              "4         January         6         6  "
            ]
          },
          "execution_count": 58,
          "metadata": {},
          "output_type": "execute_result"
        }
      ],
      "source": [
        "# day of week\n",
        "date['date_dow'] = date['date'].dt.dayofweek\n",
        "\n",
        "date.head()\n"
      ]
    },
    {
      "cell_type": "code",
      "execution_count": null,
      "metadata": {
        "id": "fkTsfTQ9D9sr",
        "outputId": "cfba353e-f40b-45dc-efdf-4c6af63bc4b2"
      },
      "outputs": [
        {
          "data": {
            "text/html": [
              "<div>\n",
              "<style scoped>\n",
              "    .dataframe tbody tr th:only-of-type {\n",
              "        vertical-align: middle;\n",
              "    }\n",
              "\n",
              "    .dataframe tbody tr th {\n",
              "        vertical-align: top;\n",
              "    }\n",
              "\n",
              "    .dataframe thead th {\n",
              "        text-align: right;\n",
              "    }\n",
              "</style>\n",
              "<table border=\"1\" class=\"dataframe\">\n",
              "  <thead>\n",
              "    <tr style=\"text-align: right;\">\n",
              "      <th></th>\n",
              "      <th>date</th>\n",
              "      <th>date_year</th>\n",
              "      <th>date_month_no</th>\n",
              "      <th>date_month_name</th>\n",
              "      <th>date_day</th>\n",
              "      <th>date_dow</th>\n",
              "      <th>date_dow_name</th>\n",
              "    </tr>\n",
              "  </thead>\n",
              "  <tbody>\n",
              "    <tr>\n",
              "      <th>0</th>\n",
              "      <td>2019-12-10</td>\n",
              "      <td>2019</td>\n",
              "      <td>12</td>\n",
              "      <td>December</td>\n",
              "      <td>10</td>\n",
              "      <td>1</td>\n",
              "      <td>Tuesday</td>\n",
              "    </tr>\n",
              "    <tr>\n",
              "      <th>1</th>\n",
              "      <td>2018-08-15</td>\n",
              "      <td>2018</td>\n",
              "      <td>8</td>\n",
              "      <td>August</td>\n",
              "      <td>15</td>\n",
              "      <td>2</td>\n",
              "      <td>Wednesday</td>\n",
              "    </tr>\n",
              "    <tr>\n",
              "      <th>2</th>\n",
              "      <td>2018-10-23</td>\n",
              "      <td>2018</td>\n",
              "      <td>10</td>\n",
              "      <td>October</td>\n",
              "      <td>23</td>\n",
              "      <td>1</td>\n",
              "      <td>Tuesday</td>\n",
              "    </tr>\n",
              "    <tr>\n",
              "      <th>3</th>\n",
              "      <td>2019-08-17</td>\n",
              "      <td>2019</td>\n",
              "      <td>8</td>\n",
              "      <td>August</td>\n",
              "      <td>17</td>\n",
              "      <td>5</td>\n",
              "      <td>Saturday</td>\n",
              "    </tr>\n",
              "    <tr>\n",
              "      <th>4</th>\n",
              "      <td>2019-01-06</td>\n",
              "      <td>2019</td>\n",
              "      <td>1</td>\n",
              "      <td>January</td>\n",
              "      <td>6</td>\n",
              "      <td>6</td>\n",
              "      <td>Sunday</td>\n",
              "    </tr>\n",
              "  </tbody>\n",
              "</table>\n",
              "</div>"
            ],
            "text/plain": [
              "        date  date_year  date_month_no date_month_name  date_day  date_dow  \\\n",
              "0 2019-12-10       2019             12        December        10         1   \n",
              "1 2018-08-15       2018              8          August        15         2   \n",
              "2 2018-10-23       2018             10         October        23         1   \n",
              "3 2019-08-17       2019              8          August        17         5   \n",
              "4 2019-01-06       2019              1         January         6         6   \n",
              "\n",
              "  date_dow_name  \n",
              "0       Tuesday  \n",
              "1     Wednesday  \n",
              "2       Tuesday  \n",
              "3      Saturday  \n",
              "4        Sunday  "
            ]
          },
          "execution_count": 59,
          "metadata": {},
          "output_type": "execute_result"
        }
      ],
      "source": [
        "# day of week - name\n",
        "\n",
        "date['date_dow_name'] = date['date'].dt.day_name()\n",
        "\n",
        "date.drop(columns=['product_id','city_id','orders']).head()"
      ]
    },
    {
      "cell_type": "code",
      "execution_count": null,
      "metadata": {
        "id": "CiM2-n7wD9sr",
        "outputId": "916ef73b-d32e-4d00-aa8f-376185e760c5"
      },
      "outputs": [
        {
          "data": {
            "text/html": [
              "<div>\n",
              "<style scoped>\n",
              "    .dataframe tbody tr th:only-of-type {\n",
              "        vertical-align: middle;\n",
              "    }\n",
              "\n",
              "    .dataframe tbody tr th {\n",
              "        vertical-align: top;\n",
              "    }\n",
              "\n",
              "    .dataframe thead th {\n",
              "        text-align: right;\n",
              "    }\n",
              "</style>\n",
              "<table border=\"1\" class=\"dataframe\">\n",
              "  <thead>\n",
              "    <tr style=\"text-align: right;\">\n",
              "      <th></th>\n",
              "      <th>date</th>\n",
              "      <th>date_year</th>\n",
              "      <th>date_month_no</th>\n",
              "      <th>date_month_name</th>\n",
              "      <th>date_day</th>\n",
              "      <th>date_dow</th>\n",
              "      <th>date_dow_name</th>\n",
              "      <th>date_is_weekend</th>\n",
              "    </tr>\n",
              "  </thead>\n",
              "  <tbody>\n",
              "    <tr>\n",
              "      <th>0</th>\n",
              "      <td>2019-12-10</td>\n",
              "      <td>2019</td>\n",
              "      <td>12</td>\n",
              "      <td>December</td>\n",
              "      <td>10</td>\n",
              "      <td>1</td>\n",
              "      <td>Tuesday</td>\n",
              "      <td>0</td>\n",
              "    </tr>\n",
              "    <tr>\n",
              "      <th>1</th>\n",
              "      <td>2018-08-15</td>\n",
              "      <td>2018</td>\n",
              "      <td>8</td>\n",
              "      <td>August</td>\n",
              "      <td>15</td>\n",
              "      <td>2</td>\n",
              "      <td>Wednesday</td>\n",
              "      <td>0</td>\n",
              "    </tr>\n",
              "    <tr>\n",
              "      <th>2</th>\n",
              "      <td>2018-10-23</td>\n",
              "      <td>2018</td>\n",
              "      <td>10</td>\n",
              "      <td>October</td>\n",
              "      <td>23</td>\n",
              "      <td>1</td>\n",
              "      <td>Tuesday</td>\n",
              "      <td>0</td>\n",
              "    </tr>\n",
              "    <tr>\n",
              "      <th>3</th>\n",
              "      <td>2019-08-17</td>\n",
              "      <td>2019</td>\n",
              "      <td>8</td>\n",
              "      <td>August</td>\n",
              "      <td>17</td>\n",
              "      <td>5</td>\n",
              "      <td>Saturday</td>\n",
              "      <td>1</td>\n",
              "    </tr>\n",
              "    <tr>\n",
              "      <th>4</th>\n",
              "      <td>2019-01-06</td>\n",
              "      <td>2019</td>\n",
              "      <td>1</td>\n",
              "      <td>January</td>\n",
              "      <td>6</td>\n",
              "      <td>6</td>\n",
              "      <td>Sunday</td>\n",
              "      <td>1</td>\n",
              "    </tr>\n",
              "  </tbody>\n",
              "</table>\n",
              "</div>"
            ],
            "text/plain": [
              "        date  date_year  date_month_no date_month_name  date_day  date_dow  \\\n",
              "0 2019-12-10       2019             12        December        10         1   \n",
              "1 2018-08-15       2018              8          August        15         2   \n",
              "2 2018-10-23       2018             10         October        23         1   \n",
              "3 2019-08-17       2019              8          August        17         5   \n",
              "4 2019-01-06       2019              1         January         6         6   \n",
              "\n",
              "  date_dow_name  date_is_weekend  \n",
              "0       Tuesday                0  \n",
              "1     Wednesday                0  \n",
              "2       Tuesday                0  \n",
              "3      Saturday                1  \n",
              "4        Sunday                1  "
            ]
          },
          "execution_count": 60,
          "metadata": {},
          "output_type": "execute_result"
        }
      ],
      "source": [
        "# is weekend?\n",
        "\n",
        "date['date_is_weekend'] = np.where(date['date_dow_name'].isin(['Sunday', 'Saturday']), 1,0)\n",
        "\n",
        "date.drop(columns=['product_id','city_id','orders']).head()"
      ]
    },
    {
      "cell_type": "markdown",
      "metadata": {
        "id": "2RHaXH-zD9ss"
      },
      "source": [
        "#### Extract week of the year"
      ]
    },
    {
      "cell_type": "code",
      "execution_count": null,
      "metadata": {
        "id": "wfc8Gsp6D9ss",
        "outputId": "fedbdb9f-807b-4df3-99f8-b42b68bc61c5"
      },
      "outputs": [
        {
          "data": {
            "text/html": [
              "<div>\n",
              "<style scoped>\n",
              "    .dataframe tbody tr th:only-of-type {\n",
              "        vertical-align: middle;\n",
              "    }\n",
              "\n",
              "    .dataframe tbody tr th {\n",
              "        vertical-align: top;\n",
              "    }\n",
              "\n",
              "    .dataframe thead th {\n",
              "        text-align: right;\n",
              "    }\n",
              "</style>\n",
              "<table border=\"1\" class=\"dataframe\">\n",
              "  <thead>\n",
              "    <tr style=\"text-align: right;\">\n",
              "      <th></th>\n",
              "      <th>date</th>\n",
              "      <th>date_year</th>\n",
              "      <th>date_month_no</th>\n",
              "      <th>date_month_name</th>\n",
              "      <th>date_day</th>\n",
              "      <th>date_dow</th>\n",
              "      <th>date_dow_name</th>\n",
              "      <th>date_is_weekend</th>\n",
              "      <th>date_week</th>\n",
              "    </tr>\n",
              "  </thead>\n",
              "  <tbody>\n",
              "    <tr>\n",
              "      <th>0</th>\n",
              "      <td>2019-12-10</td>\n",
              "      <td>2019</td>\n",
              "      <td>12</td>\n",
              "      <td>December</td>\n",
              "      <td>10</td>\n",
              "      <td>1</td>\n",
              "      <td>Tuesday</td>\n",
              "      <td>0</td>\n",
              "      <td>50</td>\n",
              "    </tr>\n",
              "    <tr>\n",
              "      <th>1</th>\n",
              "      <td>2018-08-15</td>\n",
              "      <td>2018</td>\n",
              "      <td>8</td>\n",
              "      <td>August</td>\n",
              "      <td>15</td>\n",
              "      <td>2</td>\n",
              "      <td>Wednesday</td>\n",
              "      <td>0</td>\n",
              "      <td>33</td>\n",
              "    </tr>\n",
              "    <tr>\n",
              "      <th>2</th>\n",
              "      <td>2018-10-23</td>\n",
              "      <td>2018</td>\n",
              "      <td>10</td>\n",
              "      <td>October</td>\n",
              "      <td>23</td>\n",
              "      <td>1</td>\n",
              "      <td>Tuesday</td>\n",
              "      <td>0</td>\n",
              "      <td>43</td>\n",
              "    </tr>\n",
              "    <tr>\n",
              "      <th>3</th>\n",
              "      <td>2019-08-17</td>\n",
              "      <td>2019</td>\n",
              "      <td>8</td>\n",
              "      <td>August</td>\n",
              "      <td>17</td>\n",
              "      <td>5</td>\n",
              "      <td>Saturday</td>\n",
              "      <td>1</td>\n",
              "      <td>33</td>\n",
              "    </tr>\n",
              "    <tr>\n",
              "      <th>4</th>\n",
              "      <td>2019-01-06</td>\n",
              "      <td>2019</td>\n",
              "      <td>1</td>\n",
              "      <td>January</td>\n",
              "      <td>6</td>\n",
              "      <td>6</td>\n",
              "      <td>Sunday</td>\n",
              "      <td>1</td>\n",
              "      <td>1</td>\n",
              "    </tr>\n",
              "  </tbody>\n",
              "</table>\n",
              "</div>"
            ],
            "text/plain": [
              "        date  date_year  date_month_no date_month_name  date_day  date_dow  \\\n",
              "0 2019-12-10       2019             12        December        10         1   \n",
              "1 2018-08-15       2018              8          August        15         2   \n",
              "2 2018-10-23       2018             10         October        23         1   \n",
              "3 2019-08-17       2019              8          August        17         5   \n",
              "4 2019-01-06       2019              1         January         6         6   \n",
              "\n",
              "  date_dow_name  date_is_weekend  date_week  \n",
              "0       Tuesday                0         50  \n",
              "1     Wednesday                0         33  \n",
              "2       Tuesday                0         43  \n",
              "3      Saturday                1         33  \n",
              "4        Sunday                1          1  "
            ]
          },
          "execution_count": 61,
          "metadata": {},
          "output_type": "execute_result"
        }
      ],
      "source": [
        "date['date_week'] = date['date'].dt.week\n",
        "\n",
        "date.drop(columns=['product_id','city_id','orders']).head()"
      ]
    },
    {
      "cell_type": "markdown",
      "metadata": {
        "id": "YRV5tjSFD9ss"
      },
      "source": [
        "#### Extract Quarter"
      ]
    },
    {
      "cell_type": "code",
      "execution_count": null,
      "metadata": {
        "id": "kGU0DZO-D9ss",
        "outputId": "8c880861-a00b-4803-a5d6-4fab65bfb07b"
      },
      "outputs": [
        {
          "data": {
            "text/html": [
              "<div>\n",
              "<style scoped>\n",
              "    .dataframe tbody tr th:only-of-type {\n",
              "        vertical-align: middle;\n",
              "    }\n",
              "\n",
              "    .dataframe tbody tr th {\n",
              "        vertical-align: top;\n",
              "    }\n",
              "\n",
              "    .dataframe thead th {\n",
              "        text-align: right;\n",
              "    }\n",
              "</style>\n",
              "<table border=\"1\" class=\"dataframe\">\n",
              "  <thead>\n",
              "    <tr style=\"text-align: right;\">\n",
              "      <th></th>\n",
              "      <th>date</th>\n",
              "      <th>date_year</th>\n",
              "      <th>date_month_no</th>\n",
              "      <th>date_month_name</th>\n",
              "      <th>date_day</th>\n",
              "      <th>date_dow</th>\n",
              "      <th>date_dow_name</th>\n",
              "      <th>date_is_weekend</th>\n",
              "      <th>date_week</th>\n",
              "      <th>quarter</th>\n",
              "    </tr>\n",
              "  </thead>\n",
              "  <tbody>\n",
              "    <tr>\n",
              "      <th>0</th>\n",
              "      <td>2019-12-10</td>\n",
              "      <td>2019</td>\n",
              "      <td>12</td>\n",
              "      <td>December</td>\n",
              "      <td>10</td>\n",
              "      <td>1</td>\n",
              "      <td>Tuesday</td>\n",
              "      <td>0</td>\n",
              "      <td>50</td>\n",
              "      <td>4</td>\n",
              "    </tr>\n",
              "    <tr>\n",
              "      <th>1</th>\n",
              "      <td>2018-08-15</td>\n",
              "      <td>2018</td>\n",
              "      <td>8</td>\n",
              "      <td>August</td>\n",
              "      <td>15</td>\n",
              "      <td>2</td>\n",
              "      <td>Wednesday</td>\n",
              "      <td>0</td>\n",
              "      <td>33</td>\n",
              "      <td>3</td>\n",
              "    </tr>\n",
              "    <tr>\n",
              "      <th>2</th>\n",
              "      <td>2018-10-23</td>\n",
              "      <td>2018</td>\n",
              "      <td>10</td>\n",
              "      <td>October</td>\n",
              "      <td>23</td>\n",
              "      <td>1</td>\n",
              "      <td>Tuesday</td>\n",
              "      <td>0</td>\n",
              "      <td>43</td>\n",
              "      <td>4</td>\n",
              "    </tr>\n",
              "    <tr>\n",
              "      <th>3</th>\n",
              "      <td>2019-08-17</td>\n",
              "      <td>2019</td>\n",
              "      <td>8</td>\n",
              "      <td>August</td>\n",
              "      <td>17</td>\n",
              "      <td>5</td>\n",
              "      <td>Saturday</td>\n",
              "      <td>1</td>\n",
              "      <td>33</td>\n",
              "      <td>3</td>\n",
              "    </tr>\n",
              "    <tr>\n",
              "      <th>4</th>\n",
              "      <td>2019-01-06</td>\n",
              "      <td>2019</td>\n",
              "      <td>1</td>\n",
              "      <td>January</td>\n",
              "      <td>6</td>\n",
              "      <td>6</td>\n",
              "      <td>Sunday</td>\n",
              "      <td>1</td>\n",
              "      <td>1</td>\n",
              "      <td>1</td>\n",
              "    </tr>\n",
              "  </tbody>\n",
              "</table>\n",
              "</div>"
            ],
            "text/plain": [
              "        date  date_year  date_month_no date_month_name  date_day  date_dow  \\\n",
              "0 2019-12-10       2019             12        December        10         1   \n",
              "1 2018-08-15       2018              8          August        15         2   \n",
              "2 2018-10-23       2018             10         October        23         1   \n",
              "3 2019-08-17       2019              8          August        17         5   \n",
              "4 2019-01-06       2019              1         January         6         6   \n",
              "\n",
              "  date_dow_name  date_is_weekend  date_week  quarter  \n",
              "0       Tuesday                0         50        4  \n",
              "1     Wednesday                0         33        3  \n",
              "2       Tuesday                0         43        4  \n",
              "3      Saturday                1         33        3  \n",
              "4        Sunday                1          1        1  "
            ]
          },
          "execution_count": 62,
          "metadata": {},
          "output_type": "execute_result"
        }
      ],
      "source": [
        "date['quarter'] = date['date'].dt.quarter\n",
        "\n",
        "date.drop(columns=['product_id','city_id','orders']).head()"
      ]
    },
    {
      "cell_type": "markdown",
      "metadata": {
        "id": "OC2ETW4OD9st"
      },
      "source": [
        "#### Extract Semester"
      ]
    },
    {
      "cell_type": "code",
      "execution_count": null,
      "metadata": {
        "id": "CnSsJb_KD9st",
        "outputId": "c2c4af35-c543-42a4-86e0-d7565d52ef64"
      },
      "outputs": [
        {
          "data": {
            "text/html": [
              "<div>\n",
              "<style scoped>\n",
              "    .dataframe tbody tr th:only-of-type {\n",
              "        vertical-align: middle;\n",
              "    }\n",
              "\n",
              "    .dataframe tbody tr th {\n",
              "        vertical-align: top;\n",
              "    }\n",
              "\n",
              "    .dataframe thead th {\n",
              "        text-align: right;\n",
              "    }\n",
              "</style>\n",
              "<table border=\"1\" class=\"dataframe\">\n",
              "  <thead>\n",
              "    <tr style=\"text-align: right;\">\n",
              "      <th></th>\n",
              "      <th>date</th>\n",
              "      <th>date_year</th>\n",
              "      <th>date_month_no</th>\n",
              "      <th>date_month_name</th>\n",
              "      <th>date_day</th>\n",
              "      <th>date_dow</th>\n",
              "      <th>date_dow_name</th>\n",
              "      <th>date_is_weekend</th>\n",
              "      <th>date_week</th>\n",
              "      <th>quarter</th>\n",
              "      <th>semester</th>\n",
              "    </tr>\n",
              "  </thead>\n",
              "  <tbody>\n",
              "    <tr>\n",
              "      <th>0</th>\n",
              "      <td>2019-12-10</td>\n",
              "      <td>2019</td>\n",
              "      <td>12</td>\n",
              "      <td>December</td>\n",
              "      <td>10</td>\n",
              "      <td>1</td>\n",
              "      <td>Tuesday</td>\n",
              "      <td>0</td>\n",
              "      <td>50</td>\n",
              "      <td>4</td>\n",
              "      <td>2</td>\n",
              "    </tr>\n",
              "    <tr>\n",
              "      <th>1</th>\n",
              "      <td>2018-08-15</td>\n",
              "      <td>2018</td>\n",
              "      <td>8</td>\n",
              "      <td>August</td>\n",
              "      <td>15</td>\n",
              "      <td>2</td>\n",
              "      <td>Wednesday</td>\n",
              "      <td>0</td>\n",
              "      <td>33</td>\n",
              "      <td>3</td>\n",
              "      <td>2</td>\n",
              "    </tr>\n",
              "    <tr>\n",
              "      <th>2</th>\n",
              "      <td>2018-10-23</td>\n",
              "      <td>2018</td>\n",
              "      <td>10</td>\n",
              "      <td>October</td>\n",
              "      <td>23</td>\n",
              "      <td>1</td>\n",
              "      <td>Tuesday</td>\n",
              "      <td>0</td>\n",
              "      <td>43</td>\n",
              "      <td>4</td>\n",
              "      <td>2</td>\n",
              "    </tr>\n",
              "    <tr>\n",
              "      <th>3</th>\n",
              "      <td>2019-08-17</td>\n",
              "      <td>2019</td>\n",
              "      <td>8</td>\n",
              "      <td>August</td>\n",
              "      <td>17</td>\n",
              "      <td>5</td>\n",
              "      <td>Saturday</td>\n",
              "      <td>1</td>\n",
              "      <td>33</td>\n",
              "      <td>3</td>\n",
              "      <td>2</td>\n",
              "    </tr>\n",
              "    <tr>\n",
              "      <th>4</th>\n",
              "      <td>2019-01-06</td>\n",
              "      <td>2019</td>\n",
              "      <td>1</td>\n",
              "      <td>January</td>\n",
              "      <td>6</td>\n",
              "      <td>6</td>\n",
              "      <td>Sunday</td>\n",
              "      <td>1</td>\n",
              "      <td>1</td>\n",
              "      <td>1</td>\n",
              "      <td>1</td>\n",
              "    </tr>\n",
              "  </tbody>\n",
              "</table>\n",
              "</div>"
            ],
            "text/plain": [
              "        date  date_year  date_month_no date_month_name  date_day  date_dow  \\\n",
              "0 2019-12-10       2019             12        December        10         1   \n",
              "1 2018-08-15       2018              8          August        15         2   \n",
              "2 2018-10-23       2018             10         October        23         1   \n",
              "3 2019-08-17       2019              8          August        17         5   \n",
              "4 2019-01-06       2019              1         January         6         6   \n",
              "\n",
              "  date_dow_name  date_is_weekend  date_week  quarter  semester  \n",
              "0       Tuesday                0         50        4         2  \n",
              "1     Wednesday                0         33        3         2  \n",
              "2       Tuesday                0         43        4         2  \n",
              "3      Saturday                1         33        3         2  \n",
              "4        Sunday                1          1        1         1  "
            ]
          },
          "execution_count": 63,
          "metadata": {},
          "output_type": "execute_result"
        }
      ],
      "source": [
        "date['semester'] = np.where(date['quarter'].isin([1,2]), 1, 2)\n",
        "\n",
        "date.drop(columns=['product_id','city_id','orders']).head()"
      ]
    },
    {
      "cell_type": "markdown",
      "metadata": {
        "id": "igz7tZCPD9st"
      },
      "source": [
        "#### Extract Time elapsed between dates"
      ]
    },
    {
      "cell_type": "code",
      "execution_count": null,
      "metadata": {
        "id": "7VvLIkk-D9st",
        "outputId": "04719478-e525-477a-c675-25634d96d57e"
      },
      "outputs": [
        {
          "data": {
            "text/plain": [
              "datetime.datetime(2021, 4, 21, 16, 2, 16, 791379)"
            ]
          },
          "execution_count": 26,
          "metadata": {},
          "output_type": "execute_result"
        }
      ],
      "source": [
        "import datetime\n",
        "\n",
        "today = datetime.datetime.today()\n",
        "\n",
        "today"
      ]
    },
    {
      "cell_type": "code",
      "execution_count": null,
      "metadata": {
        "id": "_NyZc8oSD9st",
        "outputId": "a41dce40-2856-4059-db85-fcaa47a59505"
      },
      "outputs": [
        {
          "data": {
            "text/plain": [
              "0     498 days 16:02:16.791379\n",
              "1     980 days 16:02:16.791379\n",
              "2     911 days 16:02:16.791379\n",
              "3     613 days 16:02:16.791379\n",
              "4     836 days 16:02:16.791379\n",
              "                ...           \n",
              "995   926 days 16:02:16.791379\n",
              "996   867 days 16:02:16.791379\n",
              "997   715 days 16:02:16.791379\n",
              "998   780 days 16:02:16.791379\n",
              "999   554 days 16:02:16.791379\n",
              "Name: date, Length: 1000, dtype: timedelta64[ns]"
            ]
          },
          "execution_count": 64,
          "metadata": {},
          "output_type": "execute_result"
        }
      ],
      "source": [
        "today - date['date']"
      ]
    },
    {
      "cell_type": "code",
      "execution_count": null,
      "metadata": {
        "id": "zCWlLHZkD9su",
        "outputId": "9552c02a-50df-4d08-bc15-2e98819f8dd0"
      },
      "outputs": [
        {
          "data": {
            "text/plain": [
              "0      498\n",
              "1      980\n",
              "2      911\n",
              "3      613\n",
              "4      836\n",
              "      ... \n",
              "995    926\n",
              "996    867\n",
              "997    715\n",
              "998    780\n",
              "999    554\n",
              "Name: date, Length: 1000, dtype: int64"
            ]
          },
          "execution_count": 65,
          "metadata": {},
          "output_type": "execute_result"
        }
      ],
      "source": [
        "(today - date['date']).dt.days"
      ]
    },
    {
      "cell_type": "code",
      "execution_count": null,
      "metadata": {
        "id": "uuppkPUeD9su",
        "outputId": "a6ebdd19-615d-436b-f91a-18eda81faa0b"
      },
      "outputs": [
        {
          "data": {
            "text/plain": [
              "0      16.0\n",
              "1      32.0\n",
              "2      30.0\n",
              "3      20.0\n",
              "4      27.0\n",
              "       ... \n",
              "995    30.0\n",
              "996    29.0\n",
              "997    24.0\n",
              "998    26.0\n",
              "999    18.0\n",
              "Name: date, Length: 1000, dtype: float64"
            ]
          },
          "execution_count": 66,
          "metadata": {},
          "output_type": "execute_result"
        }
      ],
      "source": [
        "# Months passed\n",
        "\n",
        "np.round((today -date['date']) / np.timedelta64(1, 'M'),0)"
      ]
    },
    {
      "cell_type": "code",
      "execution_count": null,
      "metadata": {
        "id": "40NpkRADD9su",
        "outputId": "8fa21b7b-b2a4-4402-bf50-52d4910da0b1"
      },
      "outputs": [
        {
          "name": "stdout",
          "output_type": "stream",
          "text": [
            "<class 'pandas.core.frame.DataFrame'>\n",
            "RangeIndex: 1000 entries, 0 to 999\n",
            "Data columns (total 2 columns):\n",
            " #   Column  Non-Null Count  Dtype \n",
            "---  ------  --------------  ----- \n",
            " 0   date    1000 non-null   object\n",
            " 1   msg     1000 non-null   object\n",
            "dtypes: object(2)\n",
            "memory usage: 15.8+ KB\n"
          ]
        }
      ],
      "source": [
        "time.info()"
      ]
    },
    {
      "cell_type": "code",
      "execution_count": null,
      "metadata": {
        "id": "6uvocOlXD9su"
      },
      "outputs": [],
      "source": [
        "# Converting to datetime datatype\n",
        "time['date'] = pd.to_datetime(time['date'])"
      ]
    },
    {
      "cell_type": "code",
      "execution_count": null,
      "metadata": {
        "id": "7AeEb9Y-D9su",
        "outputId": "e6d627fd-2358-4d4d-bca0-7526875902f2"
      },
      "outputs": [
        {
          "name": "stdout",
          "output_type": "stream",
          "text": [
            "<class 'pandas.core.frame.DataFrame'>\n",
            "RangeIndex: 1000 entries, 0 to 999\n",
            "Data columns (total 2 columns):\n",
            " #   Column  Non-Null Count  Dtype         \n",
            "---  ------  --------------  -----         \n",
            " 0   date    1000 non-null   datetime64[ns]\n",
            " 1   msg     1000 non-null   object        \n",
            "dtypes: datetime64[ns](1), object(1)\n",
            "memory usage: 15.8+ KB\n"
          ]
        }
      ],
      "source": [
        "time.info()"
      ]
    },
    {
      "cell_type": "code",
      "execution_count": null,
      "metadata": {
        "id": "ahDwSB4ND9sv",
        "outputId": "ed9fb7e8-93ed-4358-9866-d671278396e0"
      },
      "outputs": [
        {
          "data": {
            "text/html": [
              "<div>\n",
              "<style scoped>\n",
              "    .dataframe tbody tr th:only-of-type {\n",
              "        vertical-align: middle;\n",
              "    }\n",
              "\n",
              "    .dataframe tbody tr th {\n",
              "        vertical-align: top;\n",
              "    }\n",
              "\n",
              "    .dataframe thead th {\n",
              "        text-align: right;\n",
              "    }\n",
              "</style>\n",
              "<table border=\"1\" class=\"dataframe\">\n",
              "  <thead>\n",
              "    <tr style=\"text-align: right;\">\n",
              "      <th></th>\n",
              "      <th>date</th>\n",
              "      <th>msg</th>\n",
              "      <th>hour</th>\n",
              "      <th>min</th>\n",
              "      <th>sec</th>\n",
              "    </tr>\n",
              "  </thead>\n",
              "  <tbody>\n",
              "    <tr>\n",
              "      <th>0</th>\n",
              "      <td>2013-12-15 00:50:00</td>\n",
              "      <td>ищу на сегодня мужика 37</td>\n",
              "      <td>0</td>\n",
              "      <td>50</td>\n",
              "      <td>0</td>\n",
              "    </tr>\n",
              "    <tr>\n",
              "      <th>1</th>\n",
              "      <td>2014-04-29 23:40:00</td>\n",
              "      <td>ПАРЕНЬ БИ ИЩЕТ ДРУГА СЕЙЧАС!! СМС ММС 0955532826</td>\n",
              "      <td>23</td>\n",
              "      <td>40</td>\n",
              "      <td>0</td>\n",
              "    </tr>\n",
              "    <tr>\n",
              "      <th>2</th>\n",
              "      <td>2012-12-30 00:21:00</td>\n",
              "      <td>Днепр.м 43 позн.с д/ж *.о  067.16.34.576</td>\n",
              "      <td>0</td>\n",
              "      <td>21</td>\n",
              "      <td>0</td>\n",
              "    </tr>\n",
              "    <tr>\n",
              "      <th>3</th>\n",
              "      <td>2014-11-28 00:31:00</td>\n",
              "      <td>КИЕВ ИЩУ Д/Ж ДО 45 МНЕ СЕЙЧАС СКУЧНО 093 629 9...</td>\n",
              "      <td>0</td>\n",
              "      <td>31</td>\n",
              "      <td>0</td>\n",
              "    </tr>\n",
              "    <tr>\n",
              "      <th>4</th>\n",
              "      <td>2013-10-26 23:11:00</td>\n",
              "      <td>Зая я тебя никогда не обижу  люблю тебя!)  Даше</td>\n",
              "      <td>23</td>\n",
              "      <td>11</td>\n",
              "      <td>0</td>\n",
              "    </tr>\n",
              "  </tbody>\n",
              "</table>\n",
              "</div>"
            ],
            "text/plain": [
              "                 date                                                msg  \\\n",
              "0 2013-12-15 00:50:00                           ищу на сегодня мужика 37   \n",
              "1 2014-04-29 23:40:00   ПАРЕНЬ БИ ИЩЕТ ДРУГА СЕЙЧАС!! СМС ММС 0955532826   \n",
              "2 2012-12-30 00:21:00           Днепр.м 43 позн.с д/ж *.о  067.16.34.576   \n",
              "3 2014-11-28 00:31:00  КИЕВ ИЩУ Д/Ж ДО 45 МНЕ СЕЙЧАС СКУЧНО 093 629 9...   \n",
              "4 2013-10-26 23:11:00    Зая я тебя никогда не обижу  люблю тебя!)  Даше   \n",
              "\n",
              "   hour  min  sec  \n",
              "0     0   50    0  \n",
              "1    23   40    0  \n",
              "2     0   21    0  \n",
              "3     0   31    0  \n",
              "4    23   11    0  "
            ]
          },
          "execution_count": 70,
          "metadata": {},
          "output_type": "execute_result"
        }
      ],
      "source": [
        "time['hour'] = time['date'].dt.hour\n",
        "time['min'] = time['date'].dt.minute\n",
        "time['sec'] = time['date'].dt.second\n",
        "\n",
        "time.head()"
      ]
    },
    {
      "cell_type": "markdown",
      "metadata": {
        "id": "YbV64uv5D9sv"
      },
      "source": [
        "#### Extract Time part"
      ]
    },
    {
      "cell_type": "code",
      "execution_count": null,
      "metadata": {
        "id": "T4MQsBwID9sv",
        "outputId": "17196468-2a19-4fb0-9932-df1ad5e3ae57"
      },
      "outputs": [
        {
          "data": {
            "text/html": [
              "<div>\n",
              "<style scoped>\n",
              "    .dataframe tbody tr th:only-of-type {\n",
              "        vertical-align: middle;\n",
              "    }\n",
              "\n",
              "    .dataframe tbody tr th {\n",
              "        vertical-align: top;\n",
              "    }\n",
              "\n",
              "    .dataframe thead th {\n",
              "        text-align: right;\n",
              "    }\n",
              "</style>\n",
              "<table border=\"1\" class=\"dataframe\">\n",
              "  <thead>\n",
              "    <tr style=\"text-align: right;\">\n",
              "      <th></th>\n",
              "      <th>date</th>\n",
              "      <th>msg</th>\n",
              "      <th>hour</th>\n",
              "      <th>min</th>\n",
              "      <th>sec</th>\n",
              "      <th>time</th>\n",
              "    </tr>\n",
              "  </thead>\n",
              "  <tbody>\n",
              "    <tr>\n",
              "      <th>0</th>\n",
              "      <td>2013-12-15 00:50:00</td>\n",
              "      <td>ищу на сегодня мужика 37</td>\n",
              "      <td>0</td>\n",
              "      <td>50</td>\n",
              "      <td>0</td>\n",
              "      <td>00:50:00</td>\n",
              "    </tr>\n",
              "    <tr>\n",
              "      <th>1</th>\n",
              "      <td>2014-04-29 23:40:00</td>\n",
              "      <td>ПАРЕНЬ БИ ИЩЕТ ДРУГА СЕЙЧАС!! СМС ММС 0955532826</td>\n",
              "      <td>23</td>\n",
              "      <td>40</td>\n",
              "      <td>0</td>\n",
              "      <td>23:40:00</td>\n",
              "    </tr>\n",
              "    <tr>\n",
              "      <th>2</th>\n",
              "      <td>2012-12-30 00:21:00</td>\n",
              "      <td>Днепр.м 43 позн.с д/ж *.о  067.16.34.576</td>\n",
              "      <td>0</td>\n",
              "      <td>21</td>\n",
              "      <td>0</td>\n",
              "      <td>00:21:00</td>\n",
              "    </tr>\n",
              "    <tr>\n",
              "      <th>3</th>\n",
              "      <td>2014-11-28 00:31:00</td>\n",
              "      <td>КИЕВ ИЩУ Д/Ж ДО 45 МНЕ СЕЙЧАС СКУЧНО 093 629 9...</td>\n",
              "      <td>0</td>\n",
              "      <td>31</td>\n",
              "      <td>0</td>\n",
              "      <td>00:31:00</td>\n",
              "    </tr>\n",
              "    <tr>\n",
              "      <th>4</th>\n",
              "      <td>2013-10-26 23:11:00</td>\n",
              "      <td>Зая я тебя никогда не обижу  люблю тебя!)  Даше</td>\n",
              "      <td>23</td>\n",
              "      <td>11</td>\n",
              "      <td>0</td>\n",
              "      <td>23:11:00</td>\n",
              "    </tr>\n",
              "  </tbody>\n",
              "</table>\n",
              "</div>"
            ],
            "text/plain": [
              "                 date                                                msg  \\\n",
              "0 2013-12-15 00:50:00                           ищу на сегодня мужика 37   \n",
              "1 2014-04-29 23:40:00   ПАРЕНЬ БИ ИЩЕТ ДРУГА СЕЙЧАС!! СМС ММС 0955532826   \n",
              "2 2012-12-30 00:21:00           Днепр.м 43 позн.с д/ж *.о  067.16.34.576   \n",
              "3 2014-11-28 00:31:00  КИЕВ ИЩУ Д/Ж ДО 45 МНЕ СЕЙЧАС СКУЧНО 093 629 9...   \n",
              "4 2013-10-26 23:11:00    Зая я тебя никогда не обижу  люблю тебя!)  Даше   \n",
              "\n",
              "   hour  min  sec      time  \n",
              "0     0   50    0  00:50:00  \n",
              "1    23   40    0  23:40:00  \n",
              "2     0   21    0  00:21:00  \n",
              "3     0   31    0  00:31:00  \n",
              "4    23   11    0  23:11:00  "
            ]
          },
          "execution_count": 71,
          "metadata": {},
          "output_type": "execute_result"
        }
      ],
      "source": [
        "time['time'] = time['date'].dt.time\n",
        "\n",
        "time.head()"
      ]
    },
    {
      "cell_type": "markdown",
      "metadata": {
        "id": "d9Ppow6rD9sv"
      },
      "source": [
        "#### Time difference"
      ]
    },
    {
      "cell_type": "code",
      "execution_count": null,
      "metadata": {
        "id": "RnhVDYKZD9sv",
        "outputId": "71711d2c-e1b3-4a3c-a77a-43b450c7c4d5"
      },
      "outputs": [
        {
          "data": {
            "text/plain": [
              "0     2684 days 15:12:16.791379\n",
              "1     2548 days 16:22:16.791379\n",
              "2     3034 days 15:41:16.791379\n",
              "3     2336 days 15:31:16.791379\n",
              "4     2733 days 16:51:16.791379\n",
              "                 ...           \n",
              "995   3323 days 15:12:16.791379\n",
              "996   2644 days 16:48:16.791379\n",
              "997   3109 days 16:25:16.791379\n",
              "998   3225 days 16:28:16.791379\n",
              "999   2497 days 16:37:16.791379\n",
              "Name: date, Length: 1000, dtype: timedelta64[ns]"
            ]
          },
          "execution_count": 72,
          "metadata": {},
          "output_type": "execute_result"
        }
      ],
      "source": [
        "today - time['date']"
      ]
    },
    {
      "cell_type": "code",
      "execution_count": null,
      "metadata": {
        "id": "GDwRrDefD9sv",
        "outputId": "0b33c8fa-9075-49e6-a8cd-b0cbdbf069f8"
      },
      "outputs": [
        {
          "data": {
            "text/plain": [
              "0      2.319523e+08\n",
              "1      2.202061e+08\n",
              "2      2.621941e+08\n",
              "3      2.018863e+08\n",
              "4      2.361919e+08\n",
              "           ...     \n",
              "995    2.871619e+08\n",
              "996    2.285021e+08\n",
              "997    2.686767e+08\n",
              "998    2.786993e+08\n",
              "999    2.158006e+08\n",
              "Name: date, Length: 1000, dtype: float64"
            ]
          },
          "execution_count": 73,
          "metadata": {},
          "output_type": "execute_result"
        }
      ],
      "source": [
        "# in seconds\n",
        "\n",
        "(today - time['date'])/np.timedelta64(1,'s')"
      ]
    },
    {
      "cell_type": "code",
      "execution_count": null,
      "metadata": {
        "id": "QYA4KS_iD9s1",
        "outputId": "06120bd6-b32d-4e3f-b32f-9ba5c76df810"
      },
      "outputs": [
        {
          "data": {
            "text/plain": [
              "0      3.865872e+06\n",
              "1      3.670102e+06\n",
              "2      4.369901e+06\n",
              "3      3.364771e+06\n",
              "4      3.936531e+06\n",
              "           ...     \n",
              "995    4.786032e+06\n",
              "996    3.808368e+06\n",
              "997    4.477945e+06\n",
              "998    4.644988e+06\n",
              "999    3.596677e+06\n",
              "Name: date, Length: 1000, dtype: float64"
            ]
          },
          "execution_count": 74,
          "metadata": {},
          "output_type": "execute_result"
        }
      ],
      "source": [
        "# in minutes\n",
        "\n",
        "(today - time['date'])/np.timedelta64(1,'m')"
      ]
    },
    {
      "cell_type": "code",
      "execution_count": null,
      "metadata": {
        "id": "h6Xhp7kjD9s2",
        "outputId": "6fddde81-7e19-4fe6-cd86-207189a1ccc3"
      },
      "outputs": [
        {
          "data": {
            "text/plain": [
              "0      64431.204664\n",
              "1      61168.371331\n",
              "2      72831.687998\n",
              "3      56079.521331\n",
              "4      65608.854664\n",
              "           ...     \n",
              "995    79767.204664\n",
              "996    63472.804664\n",
              "997    74632.421331\n",
              "998    77416.471331\n",
              "999    59944.621331\n",
              "Name: date, Length: 1000, dtype: float64"
            ]
          },
          "execution_count": 75,
          "metadata": {},
          "output_type": "execute_result"
        }
      ],
      "source": [
        "# in hours\n",
        "\n",
        "(today - time['date'])/np.timedelta64(1,'h')"
      ]
    },
    {
      "cell_type": "code",
      "execution_count": null,
      "metadata": {
        "id": "uAXDMojZD9s2"
      },
      "outputs": [],
      "source": []
    }
  ],
  "metadata": {
    "kernelspec": {
      "display_name": "Python 3",
      "language": "python",
      "name": "python3"
    },
    "language_info": {
      "codemirror_mode": {
        "name": "ipython",
        "version": 3
      },
      "file_extension": ".py",
      "mimetype": "text/x-python",
      "name": "python",
      "nbconvert_exporter": "python",
      "pygments_lexer": "ipython3",
      "version": "3.8.3"
    },
    "colab": {
      "provenance": [],
      "name": "working with dates and time.ipynb",
      "include_colab_link": true
    }
  },
  "nbformat": 4,
  "nbformat_minor": 0
}