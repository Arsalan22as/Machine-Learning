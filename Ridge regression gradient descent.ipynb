{
  "cells": [
    {
      "cell_type": "markdown",
      "metadata": {
        "id": "view-in-github",
        "colab_type": "text"
      },
      "source": [
        "<a href=\"https://colab.research.google.com/github/Arsalan22as/Machine-Learning/blob/main/Ridge%20regression%20gradient%20descent.ipynb\" target=\"_parent\"><img src=\"https://colab.research.google.com/assets/colab-badge.svg\" alt=\"Open In Colab\"/></a>"
      ]
    },
    {
      "cell_type": "code",
      "execution_count": null,
      "id": "0a64ff79",
      "metadata": {
        "id": "0a64ff79"
      },
      "outputs": [],
      "source": [
        "from sklearn.datasets import load_diabetes\n",
        "from sklearn.metrics import r2_score\n",
        "import numpy as np"
      ]
    },
    {
      "cell_type": "code",
      "execution_count": null,
      "id": "f5d0adc9",
      "metadata": {
        "id": "f5d0adc9"
      },
      "outputs": [],
      "source": [
        "X,y = load_diabetes(return_X_y=True)"
      ]
    },
    {
      "cell_type": "code",
      "execution_count": null,
      "id": "877a6fcc",
      "metadata": {
        "id": "877a6fcc"
      },
      "outputs": [],
      "source": [
        "from sklearn.model_selection import train_test_split"
      ]
    },
    {
      "cell_type": "code",
      "execution_count": null,
      "id": "f356594b",
      "metadata": {
        "id": "f356594b"
      },
      "outputs": [],
      "source": [
        "X_train,X_test,y_train,y_test = train_test_split(X,y,test_size=0.2,random_state=4)"
      ]
    },
    {
      "cell_type": "code",
      "execution_count": null,
      "id": "7353416f",
      "metadata": {
        "id": "7353416f"
      },
      "outputs": [],
      "source": [
        "from sklearn.linear_model import SGDRegressor"
      ]
    },
    {
      "cell_type": "code",
      "execution_count": null,
      "id": "dd9147db",
      "metadata": {
        "id": "dd9147db"
      },
      "outputs": [],
      "source": [
        "reg = SGDRegressor(penalty='l2',max_iter=500,eta0=0.1,learning_rate='constant',alpha=0.001)"
      ]
    },
    {
      "cell_type": "code",
      "execution_count": null,
      "id": "bc87d135",
      "metadata": {
        "id": "bc87d135",
        "outputId": "332e41b0-bd17-4439-a96f-b25145e4d78d"
      },
      "outputs": [
        {
          "name": "stdout",
          "output_type": "stream",
          "text": [
            "R2 score 0.4408783662250152\n",
            "[  49.38829154 -148.993237    366.84437837  266.5147463    -3.39784865\n",
            "  -55.23108181 -167.55525594  138.12877883  325.67055866  101.75650011]\n",
            "[145.99981928]\n"
          ]
        }
      ],
      "source": [
        "reg.fit(X_train,y_train)\n",
        "\n",
        "y_pred = reg.predict(X_test)\n",
        "print(\"R2 score\",r2_score(y_test,y_pred))\n",
        "print(reg.coef_)\n",
        "print(reg.intercept_)"
      ]
    },
    {
      "cell_type": "code",
      "execution_count": null,
      "id": "d9b329c6",
      "metadata": {
        "id": "d9b329c6"
      },
      "outputs": [],
      "source": [
        "from sklearn.linear_model import Ridge\n",
        "\n",
        "reg = Ridge(alpha=0.001, max_iter=500,solver='sparse_cg')"
      ]
    },
    {
      "cell_type": "code",
      "execution_count": null,
      "id": "67492f20",
      "metadata": {
        "id": "67492f20",
        "outputId": "09bf94aa-5b75-48f8-f9fc-968f98a4d00a"
      },
      "outputs": [
        {
          "name": "stdout",
          "output_type": "stream",
          "text": [
            "R2 score 0.46238922017853457\n",
            "[  34.62617431 -290.42643559  483.96594581  367.96559729 -852.21640464\n",
            "  498.74459944  183.78210203  276.57704126  757.34559544   36.95860457]\n",
            "151.1041692189411\n"
          ]
        }
      ],
      "source": [
        "reg.fit(X_train,y_train)\n",
        "\n",
        "y_pred = reg.predict(X_test)\n",
        "print(\"R2 score\",r2_score(y_test,y_pred))\n",
        "print(reg.coef_)\n",
        "print(reg.intercept_)"
      ]
    },
    {
      "cell_type": "code",
      "execution_count": null,
      "id": "9c215108",
      "metadata": {
        "id": "9c215108"
      },
      "outputs": [],
      "source": [
        "class MeraRidgeGD:\n",
        "\n",
        "    def __init__(self,epochs,learning_rate,alpha):\n",
        "\n",
        "        self.learning_rate = learning_rate\n",
        "        self.epochs = epochs\n",
        "        self.alpha = alpha\n",
        "        self.coef_ = None\n",
        "        self.intercept_ = None\n",
        "\n",
        "    def fit(self,X_train,y_train):\n",
        "\n",
        "        self.coef_ = np.ones(X_train.shape[1])\n",
        "        self.intercept_ = 0\n",
        "        thetha = np.insert(self.coef_,0,self.intercept_)\n",
        "\n",
        "        X_train = np.insert(X_train,0,1,axis=1)\n",
        "\n",
        "        for i in range(self.epochs):\n",
        "            thetha_der = np.dot(X_train.T,X_train).dot(thetha) - np.dot(X_train.T,y_train) + self.alpha*thetha\n",
        "            thetha = thetha - self.learning_rate*thetha_der\n",
        "\n",
        "        self.coef_ = thetha[1:]\n",
        "        self.intercept_ = thetha[0]\n",
        "\n",
        "    def predict(self,X_test):\n",
        "\n",
        "        return np.dot(X_test,self.coef_) + self.intercept_"
      ]
    },
    {
      "cell_type": "code",
      "execution_count": null,
      "id": "12040494",
      "metadata": {
        "id": "12040494"
      },
      "outputs": [],
      "source": [
        "reg = MeraRidgeGD(epochs=500,alpha=0.001,learning_rate=0.005)"
      ]
    },
    {
      "cell_type": "code",
      "execution_count": null,
      "id": "cd5d4820",
      "metadata": {
        "id": "cd5d4820",
        "outputId": "6df17d1d-4bc2-43ea-ac87-99f5c6222a9b"
      },
      "outputs": [
        {
          "name": "stdout",
          "output_type": "stream",
          "text": [
            "R2 score 0.47379622696725354\n",
            "[  46.65040212 -221.37723801  452.11770407  325.54645024  -29.09573382\n",
            "  -96.47613436 -190.90029664  146.3286965   400.80754967   95.08979987]\n",
            "150.86972442733904\n"
          ]
        }
      ],
      "source": [
        "reg.fit(X_train,y_train)\n",
        "\n",
        "y_pred = reg.predict(X_test)\n",
        "print(\"R2 score\",r2_score(y_test,y_pred))\n",
        "print(reg.coef_)\n",
        "print(reg.intercept_)"
      ]
    },
    {
      "cell_type": "code",
      "execution_count": null,
      "id": "629a5361",
      "metadata": {
        "id": "629a5361"
      },
      "outputs": [],
      "source": []
    }
  ],
  "metadata": {
    "kernelspec": {
      "display_name": "Python 3",
      "language": "python",
      "name": "python3"
    },
    "language_info": {
      "codemirror_mode": {
        "name": "ipython",
        "version": 3
      },
      "file_extension": ".py",
      "mimetype": "text/x-python",
      "name": "python",
      "nbconvert_exporter": "python",
      "pygments_lexer": "ipython3",
      "version": "3.8.8"
    },
    "colab": {
      "provenance": [],
      "include_colab_link": true
    }
  },
  "nbformat": 4,
  "nbformat_minor": 5
}