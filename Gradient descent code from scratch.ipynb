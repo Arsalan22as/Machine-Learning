{
  "cells": [
    {
      "cell_type": "markdown",
      "metadata": {
        "id": "view-in-github",
        "colab_type": "text"
      },
      "source": [
        "<a href=\"https://colab.research.google.com/github/Arsalan22as/Machine-Learning/blob/main/Gradient%20descent%20code%20from%20scratch.ipynb\" target=\"_parent\"><img src=\"https://colab.research.google.com/assets/colab-badge.svg\" alt=\"Open In Colab\"/></a>"
      ]
    },
    {
      "cell_type": "code",
      "execution_count": null,
      "id": "480410b3",
      "metadata": {
        "id": "480410b3"
      },
      "outputs": [],
      "source": [
        "from sklearn.datasets import make_regression\n",
        "import matplotlib.pyplot as plt\n",
        "import numpy as np\n",
        "from sklearn.model_selection import cross_val_score"
      ]
    },
    {
      "cell_type": "code",
      "execution_count": null,
      "id": "a720e496",
      "metadata": {
        "id": "a720e496"
      },
      "outputs": [],
      "source": [
        "X,y = make_regression(n_samples=100, n_features=1, n_informative=1, n_targets=1,noise=20,random_state=13)"
      ]
    },
    {
      "cell_type": "code",
      "execution_count": null,
      "id": "623ddc39",
      "metadata": {
        "id": "623ddc39"
      },
      "outputs": [],
      "source": [
        "plt.scatter(X,y)"
      ]
    },
    {
      "cell_type": "code",
      "execution_count": null,
      "id": "fb217682",
      "metadata": {
        "id": "fb217682"
      },
      "outputs": [],
      "source": [
        "from sklearn.model_selection import train_test_split\n",
        "X_train,X_test,y_train,y_test = train_test_split(X,y,test_size=0.2,random_state=2)"
      ]
    },
    {
      "cell_type": "code",
      "execution_count": null,
      "id": "1c75b68c",
      "metadata": {
        "id": "1c75b68c"
      },
      "outputs": [],
      "source": [
        "from sklearn.linear_model import LinearRegression"
      ]
    },
    {
      "cell_type": "code",
      "execution_count": null,
      "id": "7f55ab93",
      "metadata": {
        "id": "7f55ab93"
      },
      "outputs": [],
      "source": [
        "lr = LinearRegression()"
      ]
    },
    {
      "cell_type": "code",
      "execution_count": null,
      "id": "8a9b8dab",
      "metadata": {
        "id": "8a9b8dab"
      },
      "outputs": [],
      "source": [
        "lr.fit(X_train,y_train)\n",
        "print(lr.coef_)\n",
        "print(lr.intercept_)"
      ]
    },
    {
      "cell_type": "code",
      "execution_count": null,
      "id": "a1891526",
      "metadata": {
        "id": "a1891526"
      },
      "outputs": [],
      "source": [
        "y_pred = lr.predict(X_test)\n",
        "from sklearn.metrics import r2_score\n",
        "r2_score(y_test,y_pred)"
      ]
    },
    {
      "cell_type": "code",
      "execution_count": null,
      "id": "0a55c997",
      "metadata": {
        "id": "0a55c997"
      },
      "outputs": [],
      "source": [
        "class GDRegressor:\n",
        "\n",
        "    def __init__(self,learning_rate,epochs):\n",
        "        self.m = 100\n",
        "        self.b = -120\n",
        "        self.lr = learning_rate\n",
        "        self.epochs = epochs\n",
        "\n",
        "    def fit(self,X,y):\n",
        "        # calcualte the b using GD\n",
        "        for i in range(self.epochs):\n",
        "            loss_slope_b = -2 * np.sum(y - self.m*X.ravel() - self.b)\n",
        "            loss_slope_m = -2 * np.sum((y - self.m*X.ravel() - self.b)*X.ravel())\n",
        "\n",
        "            self.b = self.b - (self.lr * loss_slope_b)\n",
        "            self.m = self.m - (self.lr * loss_slope_m)\n",
        "        print(self.m,self.b)\n",
        "\n",
        "    def predict(self,X):\n",
        "        return self.m * X + self.b\n"
      ]
    },
    {
      "cell_type": "code",
      "execution_count": null,
      "id": "916c1a07",
      "metadata": {
        "id": "916c1a07"
      },
      "outputs": [],
      "source": [
        "gd = GDRegressor(0.001,50)"
      ]
    },
    {
      "cell_type": "code",
      "execution_count": null,
      "id": "fb9c36f3",
      "metadata": {
        "id": "fb9c36f3"
      },
      "outputs": [],
      "source": [
        "gd.fit(X_train,y_train)"
      ]
    },
    {
      "cell_type": "code",
      "execution_count": null,
      "id": "bcd8f1cb",
      "metadata": {
        "id": "bcd8f1cb"
      },
      "outputs": [],
      "source": [
        "y_pred = gd.predict(X_test)\n",
        "from sklearn.metrics import r2_score\n",
        "r2_score(y_test,y_pred)"
      ]
    },
    {
      "cell_type": "code",
      "execution_count": null,
      "id": "68858bae",
      "metadata": {
        "id": "68858bae"
      },
      "outputs": [],
      "source": []
    }
  ],
  "metadata": {
    "kernelspec": {
      "display_name": "Python 3",
      "language": "python",
      "name": "python3"
    },
    "language_info": {
      "codemirror_mode": {
        "name": "ipython",
        "version": 3
      },
      "file_extension": ".py",
      "mimetype": "text/x-python",
      "name": "python",
      "nbconvert_exporter": "python",
      "pygments_lexer": "ipython3",
      "version": "3.8.8"
    },
    "colab": {
      "provenance": [],
      "include_colab_link": true
    }
  },
  "nbformat": 4,
  "nbformat_minor": 5
}